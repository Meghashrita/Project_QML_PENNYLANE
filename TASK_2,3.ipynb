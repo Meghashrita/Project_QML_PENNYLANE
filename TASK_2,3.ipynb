{
  "nbformat": 4,
  "nbformat_minor": 0,
  "metadata": {
    "colab": {
      "provenance": []
    },
    "kernelspec": {
      "name": "python3",
      "display_name": "Python 3"
    },
    "language_info": {
      "name": "python"
    }
  },
  "cells": [
    {
      "cell_type": "code",
      "source": [],
      "metadata": {
        "id": "g0lnt66qmEVu"
      },
      "execution_count": null,
      "outputs": []
    },
    {
      "cell_type": "markdown",
      "source": [
        "1) Familiarize yourself with Pennylane. The tutorials in the Pennylane\n",
        "codebook are a good way to get started. We recommend the codebooks\n",
        "from the sections “Introduction to Quantum Computing”, “Single-Qubit\n",
        "Gates” and “Circuits with Many Qubits”, which can be found on the following\n",
        "page (registration is required): Pennylane Codebook.\n",
        "\n",
        "2) (necessary to pass the project) To familiarize yourself with the basic\n",
        "workflow in Quantum Machine Learning, work through the tutorial on\n",
        "Variational Classifier. Implement and present the usual steps in this\n",
        "workflow and explain in your own words the purpose of each step.\n",
        "\n",
        "3) (necessary to pass the project) Consider a more sophisticated model using\n",
        "an interesting real-world dataset (here the MNIST dataset), Quanvolutional\n",
        "Neural Networks. Work through the example, Implement and present your\n",
        "steps in a notebook and comment on the important steps.\n",
        "\n",
        "4) (challenging sub-task) The goal of this subtask is to develop your own\n",
        "model and use it to learn the sine function on the interval [0, 2π]. Discretize\n",
        "the interval with a suitable number of points (of your choice) and use the\n",
        "values of the sine function at these discretization points as labels.\n",
        "Implement a Quantum Machine Learning model which reproduces the\n",
        "values of the sine function.\n",
        "\n",
        "5) (very challenging sub-task) We change the data set from the sine function\n",
        "to real-word data-set from the industry. Download the following data-set\n",
        "from kaggle: data. You can find more information about the data set in the\n",
        "following paper.\n",
        "\n",
        "Implement a Quantum Machine Learning model to detect a defective\n",
        "production part. The implementation includes the preprocessing of the\n",
        "data, the implementation of a model and the visualization of the results. You\n",
        "can use one of the models above. Further, you can also use only a subset\n",
        "of the downloaded data. The final deliverable should be a notebook in which\n",
        "all the necessary steps have been carried out and documented.\n",
        "\n",
        "# https://drive.google.com/file/d/1AcctFeXjchtEhYzPUsHpP_b4HGlI4kq9/view?pli=1"
      ],
      "metadata": {
        "id": "mw_fEwWbv5uz"
      }
    },
    {
      "cell_type": "markdown",
      "source": [
        "#TASK-2"
      ],
      "metadata": {
        "id": "4Fzp1laomGxa"
      }
    },
    {
      "cell_type": "markdown",
      "source": [
        "Variational Classifier"
      ],
      "metadata": {
        "id": "LRePIEuJni2b"
      }
    },
    {
      "cell_type": "code",
      "source": [
        "!pip install pennylane"
      ],
      "metadata": {
        "colab": {
          "base_uri": "https://localhost:8080/"
        },
        "id": "dfMdAPEvmGPY",
        "outputId": "ad33a91c-93ed-47e1-a99d-44ba96cc8ffb"
      },
      "execution_count": 1,
      "outputs": [
        {
          "output_type": "stream",
          "name": "stdout",
          "text": [
            "Collecting pennylane\n",
            "  Downloading PennyLane-0.37.0-py3-none-any.whl.metadata (9.3 kB)\n",
            "Requirement already satisfied: numpy<2.0 in /usr/local/lib/python3.10/dist-packages (from pennylane) (1.26.4)\n",
            "Requirement already satisfied: scipy in /usr/local/lib/python3.10/dist-packages (from pennylane) (1.13.1)\n",
            "Requirement already satisfied: networkx in /usr/local/lib/python3.10/dist-packages (from pennylane) (3.3)\n",
            "Collecting rustworkx (from pennylane)\n",
            "  Downloading rustworkx-0.15.1-cp38-abi3-manylinux_2_17_x86_64.manylinux2014_x86_64.whl.metadata (9.9 kB)\n",
            "Requirement already satisfied: autograd in /usr/local/lib/python3.10/dist-packages (from pennylane) (1.6.2)\n",
            "Requirement already satisfied: toml in /usr/local/lib/python3.10/dist-packages (from pennylane) (0.10.2)\n",
            "Collecting appdirs (from pennylane)\n",
            "  Downloading appdirs-1.4.4-py2.py3-none-any.whl.metadata (9.0 kB)\n",
            "Collecting semantic-version>=2.7 (from pennylane)\n",
            "  Downloading semantic_version-2.10.0-py2.py3-none-any.whl.metadata (9.7 kB)\n",
            "Collecting autoray>=0.6.11 (from pennylane)\n",
            "  Downloading autoray-0.6.12-py3-none-any.whl.metadata (5.7 kB)\n",
            "Requirement already satisfied: cachetools in /usr/local/lib/python3.10/dist-packages (from pennylane) (5.4.0)\n",
            "Collecting pennylane-lightning>=0.37 (from pennylane)\n",
            "  Downloading PennyLane_Lightning-0.37.0-cp310-cp310-manylinux_2_28_x86_64.whl.metadata (23 kB)\n",
            "Requirement already satisfied: requests in /usr/local/lib/python3.10/dist-packages (from pennylane) (2.32.3)\n",
            "Requirement already satisfied: typing-extensions in /usr/local/lib/python3.10/dist-packages (from pennylane) (4.12.2)\n",
            "Requirement already satisfied: packaging in /usr/local/lib/python3.10/dist-packages (from pennylane) (24.1)\n",
            "Requirement already satisfied: future>=0.15.2 in /usr/local/lib/python3.10/dist-packages (from autograd->pennylane) (1.0.0)\n",
            "Requirement already satisfied: charset-normalizer<4,>=2 in /usr/local/lib/python3.10/dist-packages (from requests->pennylane) (3.3.2)\n",
            "Requirement already satisfied: idna<4,>=2.5 in /usr/local/lib/python3.10/dist-packages (from requests->pennylane) (3.7)\n",
            "Requirement already satisfied: urllib3<3,>=1.21.1 in /usr/local/lib/python3.10/dist-packages (from requests->pennylane) (2.0.7)\n",
            "Requirement already satisfied: certifi>=2017.4.17 in /usr/local/lib/python3.10/dist-packages (from requests->pennylane) (2024.7.4)\n",
            "Downloading PennyLane-0.37.0-py3-none-any.whl (1.8 MB)\n",
            "\u001b[2K   \u001b[90m━━━━━━━━━━━━━━━━━━━━━━━━━━━━━━━━━━━━━━━━\u001b[0m \u001b[32m1.8/1.8 MB\u001b[0m \u001b[31m31.8 MB/s\u001b[0m eta \u001b[36m0:00:00\u001b[0m\n",
            "\u001b[?25hDownloading autoray-0.6.12-py3-none-any.whl (50 kB)\n",
            "\u001b[2K   \u001b[90m━━━━━━━━━━━━━━━━━━━━━━━━━━━━━━━━━━━━━━━━\u001b[0m \u001b[32m51.0/51.0 kB\u001b[0m \u001b[31m2.5 MB/s\u001b[0m eta \u001b[36m0:00:00\u001b[0m\n",
            "\u001b[?25hDownloading PennyLane_Lightning-0.37.0-cp310-cp310-manylinux_2_28_x86_64.whl (15.5 MB)\n",
            "\u001b[2K   \u001b[90m━━━━━━━━━━━━━━━━━━━━━━━━━━━━━━━━━━━━━━━━\u001b[0m \u001b[32m15.5/15.5 MB\u001b[0m \u001b[31m53.0 MB/s\u001b[0m eta \u001b[36m0:00:00\u001b[0m\n",
            "\u001b[?25hDownloading semantic_version-2.10.0-py2.py3-none-any.whl (15 kB)\n",
            "Downloading appdirs-1.4.4-py2.py3-none-any.whl (9.6 kB)\n",
            "Downloading rustworkx-0.15.1-cp38-abi3-manylinux_2_17_x86_64.manylinux2014_x86_64.whl (2.0 MB)\n",
            "\u001b[2K   \u001b[90m━━━━━━━━━━━━━━━━━━━━━━━━━━━━━━━━━━━━━━━━\u001b[0m \u001b[32m2.0/2.0 MB\u001b[0m \u001b[31m46.1 MB/s\u001b[0m eta \u001b[36m0:00:00\u001b[0m\n",
            "\u001b[?25hInstalling collected packages: appdirs, semantic-version, rustworkx, autoray, pennylane-lightning, pennylane\n",
            "Successfully installed appdirs-1.4.4 autoray-0.6.12 pennylane-0.37.0 pennylane-lightning-0.37.0 rustworkx-0.15.1 semantic-version-2.10.0\n"
          ]
        }
      ]
    },
    {
      "cell_type": "code",
      "source": [
        "import pennylane as qml\n",
        "from pennylane import numpy as np\n",
        "from pennylane.optimize import NesterovMomentumOptimizer"
      ],
      "metadata": {
        "id": "hxyFg_5ZmK5b"
      },
      "execution_count": 2,
      "outputs": []
    },
    {
      "cell_type": "code",
      "source": [
        "#create quantum device that run the circuit\n",
        "dev = qml.device(\"default.qubit\")\n",
        "\n",
        "#Variational classifiers usually define a “layer” or “block”, which is an elementary circuit architecture that gets repeated to build the full variational circuit.\n",
        "def layer(layer_weights):\n",
        "    for wire in range(4):\n",
        "        qml.Rot(*layer_weights[wire], wires=wire)\n",
        "\n",
        "    for wires in ([0, 1], [1, 2], [2, 3], [3, 0]):\n",
        "        qml.CNOT(wires)"
      ],
      "metadata": {
        "id": "qoxF9-G2mK7z"
      },
      "execution_count": 3,
      "outputs": []
    },
    {
      "cell_type": "code",
      "source": [
        "def state_preparation(x):\n",
        "    qml.BasisState(x, wires=[0, 1, 2, 3])"
      ],
      "metadata": {
        "id": "-MqiZyLDmK-m"
      },
      "execution_count": 4,
      "outputs": []
    },
    {
      "cell_type": "code",
      "source": [
        "#define the variational quantum circuit as this state preparation routine, followed by a repetition of the layer structure.\n",
        "@qml.qnode(dev)\n",
        "def circuit(weights, x):\n",
        "    state_preparation(x)\n",
        "    for layer_weights in weights:\n",
        "        layer(layer_weights)\n",
        "    return qml.expval(qml.PauliZ(0))"
      ],
      "metadata": {
        "id": "gReuzW5tmLA1"
      },
      "execution_count": 5,
      "outputs": []
    },
    {
      "cell_type": "code",
      "source": [
        "def variational_classifier(weights, bias, x):\n",
        "    return circuit(weights, x) + bias"
      ],
      "metadata": {
        "id": "sCJU3B-smLES"
      },
      "execution_count": 6,
      "outputs": []
    },
    {
      "cell_type": "code",
      "source": [
        "#calculating loss\n",
        "def square_loss(labels, predictions):\n",
        "    loss = 0\n",
        "    for l, p in zip(labels, predictions):\n",
        "        loss = loss + (l - p) ** 2\n",
        "\n",
        "    loss = loss / len(labels)\n",
        "    return loss"
      ],
      "metadata": {
        "id": "WKaF6xW7obiI"
      },
      "execution_count": 7,
      "outputs": []
    },
    {
      "cell_type": "code",
      "source": [
        "#calculating accuracy\n",
        "def accuracy(labels, predictions):\n",
        "\n",
        "    loss = 0\n",
        "    for l, p in zip(labels, predictions):\n",
        "        if abs(l - p) < 1e-5:\n",
        "            loss = loss + 1\n",
        "    loss = loss / len(labels)"
      ],
      "metadata": {
        "id": "41X_Kq4Bobk9"
      },
      "execution_count": 8,
      "outputs": []
    },
    {
      "cell_type": "code",
      "source": [
        "#calculating cost\n",
        "def cost(weights, bias, X, Y):\n",
        "    predictions = [variational_classifier(weights, bias, x) for x in X]\n",
        "    return square_loss(Y, predictions)"
      ],
      "metadata": {
        "id": "8iEApY_1obnH"
      },
      "execution_count": 9,
      "outputs": []
    },
    {
      "cell_type": "code",
      "source": [
        "#Now combining all above the steps and build an usecase of variational classifier\n",
        "\n",
        "import pennylane as qml\n",
        "from pennylane import numpy as np\n",
        "from pennylane.optimize import NesterovMomentumOptimizer\n",
        "\n",
        "# Define the number of qubits and layers\n",
        "num_qubits = 2\n",
        "num_layers = 2\n",
        "\n",
        "# Define the quantum circuit\n",
        "@qml.qnode(qml.device(\"default.qubit\", wires=num_qubits))\n",
        "def circuit(weights, x):\n",
        "    qml.BasisState(x, wires=range(num_qubits))  # Prepare the initial state based on input x\n",
        "    for W in weights:\n",
        "        # Apply layers of rotations\n",
        "        for i in range(num_qubits):\n",
        "            qml.Rot(W[i, 0], W[i, 1], W[i, 2], wires=i)\n",
        "        # Apply entangling gates\n",
        "        for i in range(num_qubits - 1):\n",
        "            qml.CNOT(wires=[i, i + 1])\n",
        "    return qml.expval(qml.PauliZ(0))  # Measure the expectation value of PauliZ on qubit 0\n",
        "\n",
        "# Define the variational classifier\n",
        "def variational_classifier(weights, bias, x):\n",
        "    return circuit(weights, x) + bias\n",
        "\n",
        "# Define the square loss function\n",
        "def square_loss(labels, predictions):\n",
        "    loss = np.mean((labels - predictions) ** 2)\n",
        "    return loss\n",
        "\n",
        "# Define the accuracy function\n",
        "def accuracy(labels, predictions):\n",
        "    predictions = np.sign(predictions)\n",
        "    return np.mean(predictions == labels)\n",
        "\n",
        "# Define the cost function\n",
        "def cost(weights, bias, X, Y):\n",
        "    predictions = np.array([variational_classifier(weights, bias, x) for x in X])\n",
        "    return square_loss(Y, predictions)\n",
        "\n",
        "# Generate a toy dataset\n",
        "np.random.seed(0)\n",
        "X = np.array([[0, 0], [0, 1], [1, 0], [1, 1]])\n",
        "Y = np.array([1, 1, 0, 0])\n",
        "\n",
        "# Initialize random weights\n",
        "weights_init = 0.01 * np.random.randn(num_layers, num_qubits, 3)\n",
        "bias_init = 0.0\n",
        "\n",
        "# Optimize the cost function\n",
        "opt = NesterovMomentumOptimizer(0.5)\n",
        "batch_size = 2\n",
        "weights = weights_init\n",
        "bias = bias_init\n",
        "\n",
        "for it in range(25):\n",
        "    # Update the weights by one optimizer step\n",
        "    batch_index = np.random.randint(0, len(X), batch_size)\n",
        "    X_batch = X[batch_index]\n",
        "    Y_batch = Y[batch_index]\n",
        "    weights, bias = opt.step(lambda w, b: cost(w, b, X_batch, Y_batch), weights, bias)\n",
        "\n",
        "    # Compute accuracy\n",
        "    predictions = np.array([variational_classifier(weights, bias, x).numpy() for x in X])\n",
        "    acc = accuracy(Y, predictions)\n",
        "\n",
        "    print(\n",
        "        \"Iter: {:5d} | Cost: {:0.7f} | Accuracy: {:0.7f} \".format(\n",
        "            it + 1, cost(weights, bias, X, Y), acc\n",
        "        )\n",
        "    )\n"
      ],
      "metadata": {
        "colab": {
          "base_uri": "https://localhost:8080/"
        },
        "id": "A5UIqTkVobrA",
        "outputId": "aa633fd1-3622-4b56-a032-001b22d71133"
      },
      "execution_count": 22,
      "outputs": [
        {
          "output_type": "stream",
          "name": "stdout",
          "text": [
            "Iter:     1 | Cost: 0.4999908 | Accuracy: 0.5000000 \n",
            "Iter:     2 | Cost: 0.4999908 | Accuracy: 0.5000000 \n",
            "Iter:     3 | Cost: 0.4999908 | Accuracy: 0.5000000 \n",
            "Iter:     4 | Cost: 0.4999908 | Accuracy: 0.5000000 \n",
            "Iter:     5 | Cost: 0.4999792 | Accuracy: 0.5000000 \n",
            "Iter:     6 | Cost: 0.4999201 | Accuracy: 0.5000000 \n",
            "Iter:     7 | Cost: 0.4993369 | Accuracy: 0.5000000 \n",
            "Iter:     8 | Cost: 0.4962321 | Accuracy: 0.5000000 \n",
            "Iter:     9 | Cost: 0.4668007 | Accuracy: 0.5000000 \n",
            "Iter:    10 | Cost: 0.4319368 | Accuracy: 0.5000000 \n",
            "Iter:    11 | Cost: 0.3302354 | Accuracy: 0.5000000 \n",
            "Iter:    12 | Cost: 0.3337832 | Accuracy: 0.5000000 \n",
            "Iter:    13 | Cost: 0.6857360 | Accuracy: 0.2500000 \n",
            "Iter:    14 | Cost: 0.5217693 | Accuracy: 0.2500000 \n",
            "Iter:    15 | Cost: 0.6983571 | Accuracy: 0.2500000 \n",
            "Iter:    16 | Cost: 0.4204915 | Accuracy: 0.5000000 \n",
            "Iter:    17 | Cost: 0.2787887 | Accuracy: 0.5000000 \n",
            "Iter:    18 | Cost: 0.7388964 | Accuracy: 0.2500000 \n",
            "Iter:    19 | Cost: 0.4793728 | Accuracy: 0.5000000 \n",
            "Iter:    20 | Cost: 0.4090135 | Accuracy: 0.5000000 \n",
            "Iter:    21 | Cost: 0.3625993 | Accuracy: 0.5000000 \n",
            "Iter:    22 | Cost: 0.2533550 | Accuracy: 0.5000000 \n",
            "Iter:    23 | Cost: 0.4445175 | Accuracy: 0.5000000 \n",
            "Iter:    24 | Cost: 0.4250748 | Accuracy: 0.5000000 \n",
            "Iter:    25 | Cost: 0.2579560 | Accuracy: 0.5000000 \n"
          ]
        }
      ]
    },
    {
      "cell_type": "code",
      "source": [
        "#codes modified and added some plots\n",
        "import pennylane as qml\n",
        "from pennylane import numpy as np\n",
        "from pennylane.optimize import NesterovMomentumOptimizer\n",
        "import matplotlib.pyplot as plt\n",
        "\n",
        "# Define the number of qubits and layers\n",
        "num_qubits = 2\n",
        "num_layers = 2\n",
        "\n",
        "# Define the quantum circuit\n",
        "@qml.qnode(qml.device(\"default.qubit\", wires=num_qubits))\n",
        "def circuit(weights, x):\n",
        "    qml.BasisState(x, wires=range(num_qubits))  # Prepare the initial state based on input x\n",
        "    for W in weights:\n",
        "        # Apply layers of rotations\n",
        "        for i in range(num_qubits):\n",
        "            qml.Rot(W[i, 0], W[i, 1], W[i, 2], wires=i)\n",
        "        # Apply entangling gates\n",
        "        for i in range(num_qubits - 1):\n",
        "            qml.CNOT(wires=[i, i + 1])\n",
        "    return qml.expval(qml.PauliZ(0))  # Measure the expectation value of PauliZ on qubit 0\n",
        "\n",
        "# Define the variational classifier\n",
        "def variational_classifier(weights, bias, x):\n",
        "    return circuit(weights, x) + bias\n",
        "\n",
        "# Define the square loss function\n",
        "def square_loss(labels, predictions):\n",
        "    loss = np.mean((labels - predictions) ** 2)\n",
        "    return loss\n",
        "\n",
        "# Define the accuracy function\n",
        "def accuracy(labels, predictions):\n",
        "    predictions = np.sign(predictions)\n",
        "    return np.mean(predictions == labels)\n",
        "\n",
        "# Define the cost function\n",
        "def cost(weights, bias, X, Y):\n",
        "    predictions = np.array([variational_classifier(weights, bias, x) for x in X])\n",
        "    return square_loss(Y, predictions)\n",
        "\n",
        "# Generate a toy dataset\n",
        "np.random.seed(0)\n",
        "X = np.array([[0, 0], [0, 1], [1, 0], [1, 1]])\n",
        "Y = np.array([1, 1, 0, 0])\n",
        "\n",
        "# Initialize random weights\n",
        "weights_init = 0.01 * np.random.randn(num_layers, num_qubits, 3)\n",
        "bias_init = 0.0\n",
        "\n",
        "# Optimize the cost function\n",
        "opt = NesterovMomentumOptimizer(0.5)\n",
        "batch_size = 2\n",
        "weights = weights_init\n",
        "bias = bias_init\n",
        "\n",
        "# Lists to store cost and accuracy values\n",
        "cost_values = []\n",
        "accuracy_values = []\n",
        "\n",
        "for it in range(25):\n",
        "    # Update the weights by one optimizer step\n",
        "    batch_index = np.random.randint(0, len(X), batch_size)\n",
        "    X_batch = X[batch_index]\n",
        "    Y_batch = Y[batch_index]\n",
        "    weights, bias = opt.step(lambda w, b: cost(w, b, X_batch, Y_batch), weights, bias)\n",
        "\n",
        "    # Compute cost and accuracy\n",
        "    current_cost = cost(weights, bias, X, Y)\n",
        "    predictions = np.array([variational_classifier(weights, bias, x).numpy() for x in X])\n",
        "    acc = accuracy(Y, predictions)\n",
        "\n",
        "    cost_values.append(current_cost)\n",
        "    accuracy_values.append(acc)\n",
        "\n",
        "    print(\n",
        "        \"Iter: {:5d} | Cost: {:0.7f} | Accuracy: {:0.7f} \".format(\n",
        "            it + 1, current_cost, acc\n",
        "        )\n",
        "    )\n",
        "\n",
        "# Plot cost and accuracy\n",
        "plt.figure(figsize=(12, 5))\n",
        "\n",
        "# Plot Cost\n",
        "plt.subplot(1, 2, 1)\n",
        "plt.plot(cost_values, marker='o', color='blue', linestyle='-')\n",
        "plt.title('Cost over Iterations')\n",
        "plt.xlabel('Iteration')\n",
        "plt.ylabel('Cost')\n",
        "plt.grid(True)\n",
        "\n",
        "# Plot Accuracy\n",
        "plt.subplot(1, 2, 2)\n",
        "plt.plot(accuracy_values, marker='o', color='green', linestyle='-')\n",
        "plt.title('Accuracy over Iterations')\n",
        "plt.xlabel('Iteration')\n",
        "plt.ylabel('Accuracy')\n",
        "plt.grid(True)\n",
        "\n",
        "plt.tight_layout()\n",
        "plt.show()\n"
      ],
      "metadata": {
        "colab": {
          "base_uri": "https://localhost:8080/",
          "height": 961
        },
        "id": "bxNIRu13mLOU",
        "outputId": "0d96f587-b8da-4a34-d367-17b8d7959554"
      },
      "execution_count": 24,
      "outputs": [
        {
          "output_type": "stream",
          "name": "stdout",
          "text": [
            "Iter:     1 | Cost: 0.4999908 | Accuracy: 0.5000000 \n",
            "Iter:     2 | Cost: 0.4999908 | Accuracy: 0.5000000 \n",
            "Iter:     3 | Cost: 0.4999908 | Accuracy: 0.5000000 \n",
            "Iter:     4 | Cost: 0.4999908 | Accuracy: 0.5000000 \n",
            "Iter:     5 | Cost: 0.4999792 | Accuracy: 0.5000000 \n",
            "Iter:     6 | Cost: 0.4999201 | Accuracy: 0.5000000 \n",
            "Iter:     7 | Cost: 0.4993369 | Accuracy: 0.5000000 \n",
            "Iter:     8 | Cost: 0.4962321 | Accuracy: 0.5000000 \n",
            "Iter:     9 | Cost: 0.4668007 | Accuracy: 0.5000000 \n",
            "Iter:    10 | Cost: 0.4319368 | Accuracy: 0.5000000 \n",
            "Iter:    11 | Cost: 0.3302354 | Accuracy: 0.5000000 \n",
            "Iter:    12 | Cost: 0.3337832 | Accuracy: 0.5000000 \n",
            "Iter:    13 | Cost: 0.6857360 | Accuracy: 0.2500000 \n",
            "Iter:    14 | Cost: 0.5217693 | Accuracy: 0.2500000 \n",
            "Iter:    15 | Cost: 0.6983571 | Accuracy: 0.2500000 \n",
            "Iter:    16 | Cost: 0.4204915 | Accuracy: 0.5000000 \n",
            "Iter:    17 | Cost: 0.2787887 | Accuracy: 0.5000000 \n",
            "Iter:    18 | Cost: 0.7388964 | Accuracy: 0.2500000 \n",
            "Iter:    19 | Cost: 0.4793728 | Accuracy: 0.5000000 \n",
            "Iter:    20 | Cost: 0.4090135 | Accuracy: 0.5000000 \n",
            "Iter:    21 | Cost: 0.3625993 | Accuracy: 0.5000000 \n",
            "Iter:    22 | Cost: 0.2533550 | Accuracy: 0.5000000 \n",
            "Iter:    23 | Cost: 0.4445175 | Accuracy: 0.5000000 \n",
            "Iter:    24 | Cost: 0.4250748 | Accuracy: 0.5000000 \n",
            "Iter:    25 | Cost: 0.2579560 | Accuracy: 0.5000000 \n"
          ]
        },
        {
          "output_type": "display_data",
          "data": {
            "text/plain": [
              "<Figure size 1200x500 with 2 Axes>"
            ],
            "image/png": "[encoded data removed]"
          },
          "metadata": {}
        }
      ]
    },
    {
      "cell_type": "code",
      "source": [],
      "metadata": {
        "id": "EwBtXGoVtBzE"
      },
      "execution_count": null,
      "outputs": []
    },
    {
      "cell_type": "markdown",
      "source": [
        "# TASK-3\n",
        "\n",
        "# https://pennylane.ai/qml/demos/tutorial_quanvolution/"
      ],
      "metadata": {
        "id": "7WxiGrrKxo2z"
      }
    },
    {
      "cell_type": "markdown",
      "source": [
        "The part where it is commented for the sine function it somehow doesn't work for training this but the example mentioned in pennylane tutorial works well"
      ],
      "metadata": {
        "id": "xF7EHHfYHj_a"
      }
    },
    {
      "cell_type": "code",
      "source": [
        "!pip install pennylane"
      ],
      "metadata": {
        "colab": {
          "base_uri": "https://localhost:8080/"
        },
        "id": "TFAaLNfnxf1U",
        "outputId": "edb9575b-52d3-4ee3-d4d8-c4e2af592230"
      },
      "execution_count": null,
      "outputs": [
        {
          "output_type": "stream",
          "name": "stdout",
          "text": [
            "Collecting pennylane\n",
            "  Downloading PennyLane-0.36.0-py3-none-any.whl (1.7 MB)\n",
            "\u001b[2K     \u001b[90m━━━━━━━━━━━━━━━━━━━━━━━━━━━━━━━━━━━━━━━━\u001b[0m \u001b[32m1.7/1.7 MB\u001b[0m \u001b[31m7.8 MB/s\u001b[0m eta \u001b[36m0:00:00\u001b[0m\n",
            "\u001b[?25hRequirement already satisfied: numpy<2.0 in /usr/local/lib/python3.10/dist-packages (from pennylane) (1.25.2)\n",
            "Requirement already satisfied: scipy in /usr/local/lib/python3.10/dist-packages (from pennylane) (1.11.4)\n",
            "Requirement already satisfied: networkx in /usr/local/lib/python3.10/dist-packages (from pennylane) (3.3)\n",
            "Collecting rustworkx (from pennylane)\n",
            "  Downloading rustworkx-0.15.1-cp38-abi3-manylinux_2_17_x86_64.manylinux2014_x86_64.whl (2.0 MB)\n",
            "\u001b[2K     \u001b[90m━━━━━━━━━━━━━━━━━━━━━━━━━━━━━━━━━━━━━━━━\u001b[0m \u001b[32m2.0/2.0 MB\u001b[0m \u001b[31m21.6 MB/s\u001b[0m eta \u001b[36m0:00:00\u001b[0m\n",
            "\u001b[?25hRequirement already satisfied: autograd in /usr/local/lib/python3.10/dist-packages (from pennylane) (1.6.2)\n",
            "Requirement already satisfied: toml in /usr/local/lib/python3.10/dist-packages (from pennylane) (0.10.2)\n",
            "Collecting appdirs (from pennylane)\n",
            "  Downloading appdirs-1.4.4-py2.py3-none-any.whl (9.6 kB)\n",
            "Collecting semantic-version>=2.7 (from pennylane)\n",
            "  Downloading semantic_version-2.10.0-py2.py3-none-any.whl (15 kB)\n",
            "Collecting autoray>=0.6.1 (from pennylane)\n",
            "  Downloading autoray-0.6.12-py3-none-any.whl (50 kB)\n",
            "\u001b[2K     \u001b[90m━━━━━━━━━━━━━━━━━━━━━━━━━━━━━━━━━━━━━━━━\u001b[0m \u001b[32m51.0/51.0 kB\u001b[0m \u001b[31m5.2 MB/s\u001b[0m eta \u001b[36m0:00:00\u001b[0m\n",
            "\u001b[?25hRequirement already satisfied: cachetools in /usr/local/lib/python3.10/dist-packages (from pennylane) (5.3.3)\n",
            "Collecting pennylane-lightning>=0.36 (from pennylane)\n",
            "  Downloading PennyLane_Lightning-0.36.0-cp310-cp310-manylinux_2_17_x86_64.manylinux2014_x86_64.whl (19.1 MB)\n",
            "\u001b[2K     \u001b[90m━━━━━━━━━━━━━━━━━━━━━━━━━━━━━━━━━━━━━━━━\u001b[0m \u001b[32m19.1/19.1 MB\u001b[0m \u001b[31m10.8 MB/s\u001b[0m eta \u001b[36m0:00:00\u001b[0m\n",
            "\u001b[?25hRequirement already satisfied: requests in /usr/local/lib/python3.10/dist-packages (from pennylane) (2.31.0)\n",
            "Requirement already satisfied: typing-extensions in /usr/local/lib/python3.10/dist-packages (from pennylane) (4.12.2)\n",
            "Requirement already satisfied: future>=0.15.2 in /usr/local/lib/python3.10/dist-packages (from autograd->pennylane) (0.18.3)\n",
            "Requirement already satisfied: charset-normalizer<4,>=2 in /usr/local/lib/python3.10/dist-packages (from requests->pennylane) (3.3.2)\n",
            "Requirement already satisfied: idna<4,>=2.5 in /usr/local/lib/python3.10/dist-packages (from requests->pennylane) (3.7)\n",
            "Requirement already satisfied: urllib3<3,>=1.21.1 in /usr/local/lib/python3.10/dist-packages (from requests->pennylane) (2.0.7)\n",
            "Requirement already satisfied: certifi>=2017.4.17 in /usr/local/lib/python3.10/dist-packages (from requests->pennylane) (2024.6.2)\n",
            "Installing collected packages: appdirs, semantic-version, rustworkx, autoray, pennylane-lightning, pennylane\n",
            "Successfully installed appdirs-1.4.4 autoray-0.6.12 pennylane-0.36.0 pennylane-lightning-0.36.0 rustworkx-0.15.1 semantic-version-2.10.0\n"
          ]
        }
      ]
    },
    {
      "cell_type": "code",
      "source": [
        "!pip install torchvision\n",
        "\n",
        "import numpy as np\n",
        "import pennylane as qml\n",
        "import torch\n",
        "from torchvision import datasets, transforms"
      ],
      "metadata": {
        "colab": {
          "base_uri": "https://localhost:8080/"
        },
        "id": "CCwC5pt6x3wY",
        "outputId": "a6997df7-119b-426f-d566-f26a16b0af81"
      },
      "execution_count": null,
      "outputs": [
        {
          "output_type": "stream",
          "name": "stdout",
          "text": [
            "Requirement already satisfied: torchvision in /usr/local/lib/python3.10/dist-packages (0.18.0+cu121)\n",
            "Requirement already satisfied: numpy in /usr/local/lib/python3.10/dist-packages (from torchvision) (1.25.2)\n",
            "Requirement already satisfied: torch==2.3.0 in /usr/local/lib/python3.10/dist-packages (from torchvision) (2.3.0+cu121)\n",
            "Requirement already satisfied: pillow!=8.3.*,>=5.3.0 in /usr/local/lib/python3.10/dist-packages (from torchvision) (9.4.0)\n",
            "Requirement already satisfied: filelock in /usr/local/lib/python3.10/dist-packages (from torch==2.3.0->torchvision) (3.15.4)\n",
            "Requirement already satisfied: typing-extensions>=4.8.0 in /usr/local/lib/python3.10/dist-packages (from torch==2.3.0->torchvision) (4.12.2)\n",
            "Requirement already satisfied: sympy in /usr/local/lib/python3.10/dist-packages (from torch==2.3.0->torchvision) (1.12.1)\n",
            "Requirement already satisfied: networkx in /usr/local/lib/python3.10/dist-packages (from torch==2.3.0->torchvision) (3.3)\n",
            "Requirement already satisfied: jinja2 in /usr/local/lib/python3.10/dist-packages (from torch==2.3.0->torchvision) (3.1.4)\n",
            "Requirement already satisfied: fsspec in /usr/local/lib/python3.10/dist-packages (from torch==2.3.0->torchvision) (2023.6.0)\n",
            "Collecting nvidia-cuda-nvrtc-cu12==12.1.105 (from torch==2.3.0->torchvision)\n",
            "  Using cached nvidia_cuda_nvrtc_cu12-12.1.105-py3-none-manylinux1_x86_64.whl (23.7 MB)\n",
            "Collecting nvidia-cuda-runtime-cu12==12.1.105 (from torch==2.3.0->torchvision)\n",
            "  Using cached nvidia_cuda_runtime_cu12-12.1.105-py3-none-manylinux1_x86_64.whl (823 kB)\n",
            "Collecting nvidia-cuda-cupti-cu12==12.1.105 (from torch==2.3.0->torchvision)\n",
            "  Using cached nvidia_cuda_cupti_cu12-12.1.105-py3-none-manylinux1_x86_64.whl (14.1 MB)\n",
            "Collecting nvidia-cudnn-cu12==8.9.2.26 (from torch==2.3.0->torchvision)\n",
            "  Using cached nvidia_cudnn_cu12-8.9.2.26-py3-none-manylinux1_x86_64.whl (731.7 MB)\n",
            "Collecting nvidia-cublas-cu12==12.1.3.1 (from torch==2.3.0->torchvision)\n",
            "  Using cached nvidia_cublas_cu12-12.1.3.1-py3-none-manylinux1_x86_64.whl (410.6 MB)\n",
            "Collecting nvidia-cufft-cu12==11.0.2.54 (from torch==2.3.0->torchvision)\n",
            "  Using cached nvidia_cufft_cu12-11.0.2.54-py3-none-manylinux1_x86_64.whl (121.6 MB)\n",
            "Collecting nvidia-curand-cu12==10.3.2.106 (from torch==2.3.0->torchvision)\n",
            "  Using cached nvidia_curand_cu12-10.3.2.106-py3-none-manylinux1_x86_64.whl (56.5 MB)\n",
            "Collecting nvidia-cusolver-cu12==11.4.5.107 (from torch==2.3.0->torchvision)\n",
            "  Using cached nvidia_cusolver_cu12-11.4.5.107-py3-none-manylinux1_x86_64.whl (124.2 MB)\n",
            "\u001b[33mWARNING: Retrying (Retry(total=4, connect=None, read=None, redirect=None, status=None)) after connection broken by 'ProtocolError('Connection aborted.', RemoteDisconnected('Remote end closed connection without response'))': /simple/nvidia-cusparse-cu12/\u001b[0m\u001b[33m\n",
            "\u001b[0mCollecting nvidia-cusparse-cu12==12.1.0.106 (from torch==2.3.0->torchvision)\n",
            "  Using cached nvidia_cusparse_cu12-12.1.0.106-py3-none-manylinux1_x86_64.whl (196.0 MB)\n",
            "Collecting nvidia-nccl-cu12==2.20.5 (from torch==2.3.0->torchvision)\n",
            "  Using cached nvidia_nccl_cu12-2.20.5-py3-none-manylinux2014_x86_64.whl (176.2 MB)\n",
            "Collecting nvidia-nvtx-cu12==12.1.105 (from torch==2.3.0->torchvision)\n",
            "  Using cached nvidia_nvtx_cu12-12.1.105-py3-none-manylinux1_x86_64.whl (99 kB)\n",
            "Requirement already satisfied: triton==2.3.0 in /usr/local/lib/python3.10/dist-packages (from torch==2.3.0->torchvision) (2.3.0)\n",
            "Collecting nvidia-nvjitlink-cu12 (from nvidia-cusolver-cu12==11.4.5.107->torch==2.3.0->torchvision)\n",
            "  Downloading nvidia_nvjitlink_cu12-12.5.82-py3-none-manylinux2014_x86_64.whl (21.3 MB)\n",
            "\u001b[2K     \u001b[90m━━━━━━━━━━━━━━━━━━━━━━━━━━━━━━━━━━━━━━━━\u001b[0m \u001b[32m21.3/21.3 MB\u001b[0m \u001b[31m52.5 MB/s\u001b[0m eta \u001b[36m0:00:00\u001b[0m\n",
            "\u001b[?25hRequirement already satisfied: MarkupSafe>=2.0 in /usr/local/lib/python3.10/dist-packages (from jinja2->torch==2.3.0->torchvision) (2.1.5)\n",
            "Requirement already satisfied: mpmath<1.4.0,>=1.1.0 in /usr/local/lib/python3.10/dist-packages (from sympy->torch==2.3.0->torchvision) (1.3.0)\n",
            "Installing collected packages: nvidia-nvtx-cu12, nvidia-nvjitlink-cu12, nvidia-nccl-cu12, nvidia-curand-cu12, nvidia-cufft-cu12, nvidia-cuda-runtime-cu12, nvidia-cuda-nvrtc-cu12, nvidia-cuda-cupti-cu12, nvidia-cublas-cu12, nvidia-cusparse-cu12, nvidia-cudnn-cu12, nvidia-cusolver-cu12\n",
            "Successfully installed nvidia-cublas-cu12-12.1.3.1 nvidia-cuda-cupti-cu12-12.1.105 nvidia-cuda-nvrtc-cu12-12.1.105 nvidia-cuda-runtime-cu12-12.1.105 nvidia-cudnn-cu12-8.9.2.26 nvidia-cufft-cu12-11.0.2.54 nvidia-curand-cu12-10.3.2.106 nvidia-cusolver-cu12-11.4.5.107 nvidia-cusparse-cu12-12.1.0.106 nvidia-nccl-cu12-2.20.5 nvidia-nvjitlink-cu12-12.5.82 nvidia-nvtx-cu12-12.1.105\n"
          ]
        }
      ]
    },
    {
      "cell_type": "code",
      "source": [
        "import pennylane as qml\n",
        "from pennylane import numpy as np\n",
        "from pennylane.templates import RandomLayers\n",
        "import tensorflow as tf\n",
        "from tensorflow import keras\n",
        "import matplotlib.pyplot as plt\n"
      ],
      "metadata": {
        "id": "K1KG-ze1yqQf"
      },
      "execution_count": null,
      "outputs": []
    },
    {
      "cell_type": "code",
      "source": [
        "from google.colab import drive\n",
        "drive.mount('/content/drive')"
      ],
      "metadata": {
        "colab": {
          "base_uri": "https://localhost:8080/"
        },
        "id": "ToFTrQUjw6aG",
        "outputId": "24514477-52d3-413e-e765-d7158290f67f"
      },
      "execution_count": null,
      "outputs": [
        {
          "output_type": "stream",
          "name": "stdout",
          "text": [
            "Mounted at /content/drive\n"
          ]
        }
      ]
    },
    {
      "cell_type": "code",
      "source": [
        "n_epochs = 30   # Number of optimization epochs\n",
        "n_layers = 1    # Number of random layers\n",
        "n_train = 50    # Size of the train dataset\n",
        "n_test = 30     # Size of the test dataset\n",
        "\n",
        "SAVE_PATH = \"/content/sample_data\"  # Data saving folder\n",
        "PREPROCESS = True           # If False, skip quantum processing and load data from SAVE_PATH\n",
        "np.random.seed(0)           # Seed for NumPy random number generator\n",
        "tf.random.set_seed(0)"
      ],
      "metadata": {
        "id": "_Uee6gDFxFnd"
      },
      "execution_count": null,
      "outputs": []
    },
    {
      "cell_type": "code",
      "source": [
        "mnist_dataset = keras.datasets.mnist\n",
        "(train_images, train_labels), (test_images, test_labels) = mnist_dataset.load_data()\n",
        "\n",
        "\n",
        "\n",
        "# Reduce dataset size\n",
        "train_images = train_images[:n_train]\n",
        "train_labels = train_labels[:n_train]\n",
        "test_images = test_images[:n_test]\n",
        "test_labels = test_labels[:n_test]\n",
        "\n",
        "# Normalize pixel values within 0 and 1\n",
        "train_images = train_images / 255.0\n",
        "test_images = test_images / 255.0\n",
        "\n",
        "# Add extra dimension for convolution channels\n",
        "train_images = np.array(train_images[..., tf.newaxis], requires_grad=False)\n",
        "test_images = np.array(test_images[..., tf.newaxis], requires_grad=False)\n",
        "\n"
      ],
      "metadata": {
        "id": "PID9KLbNywPM",
        "colab": {
          "base_uri": "https://localhost:8080/"
        },
        "outputId": "90a0c742-7b14-4a8c-cbba-1f3122d4d7fb"
      },
      "execution_count": null,
      "outputs": [
        {
          "output_type": "stream",
          "name": "stdout",
          "text": [
            "Downloading data from https://storage.googleapis.com/tensorflow/tf-keras-datasets/mnist.npz\n",
            "11490434/11490434 [==============================] - 0s 0us/step\n"
          ]
        }
      ]
    },
    {
      "cell_type": "code",
      "source": [
        "dev = qml.device(\"default.qubit\", wires=4)\n",
        "# Random circuit parameters\n",
        "rand_params = np.random.uniform(high=2 * np.pi, size=(n_layers, 4))\n",
        "\n",
        "@qml.qnode(dev)\n",
        "def circuit(phi):\n",
        "    # Encoding of 4 classical input values\n",
        "    for j in range(4):\n",
        "        qml.RY(np.pi * phi[j], wires=j)\n",
        "\n",
        "    # Random quantum circuit\n",
        "    RandomLayers(rand_params, wires=list(range(4)))\n",
        "\n",
        "    # Measurement producing 4 classical output values\n",
        "    return [qml.expval(qml.PauliZ(j)) for j in range(4)]"
      ],
      "metadata": {
        "id": "sLAESYr4yzYC"
      },
      "execution_count": null,
      "outputs": []
    },
    {
      "cell_type": "code",
      "source": [
        "def quanv(image):\n",
        "    \"\"\"Convolves the input image with many applications of the same quantum circuit.\"\"\"\n",
        "    out = np.zeros((14, 14, 4))\n",
        "\n",
        "    # Loop over the coordinates of the top-left pixel of 2X2 squares\n",
        "    for j in range(0, 28, 2):\n",
        "        for k in range(0, 28, 2):\n",
        "            # Process a squared 2x2 region of the image with a quantum circuit\n",
        "            q_results = circuit(\n",
        "                [\n",
        "                    image[j, k, 0],\n",
        "                    image[j, k + 1, 0],\n",
        "                    image[j + 1, k, 0],\n",
        "                    image[j + 1, k + 1, 0]\n",
        "                ]\n",
        "            )\n",
        "            # Assign expectation values to different channels of the output pixel (j/2, k/2)\n",
        "            for c in range(4):\n",
        "                out[j // 2, k // 2, c] = q_results[c]\n",
        "    return out\n"
      ],
      "metadata": {
        "id": "zgMhHSioyzaj"
      },
      "execution_count": null,
      "outputs": []
    },
    {
      "cell_type": "code",
      "source": [
        "if PREPROCESS == True:\n",
        "    q_train_images = []\n",
        "    print(\"Quantum pre-processing of train images:\")\n",
        "    for idx, img in enumerate(train_images):\n",
        "        print(\"{}/{}        \".format(idx + 1, n_train), end=\"\\r\")\n",
        "        q_train_images.append(quanv(img))\n",
        "    q_train_images = np.asarray(q_train_images)\n",
        "\n",
        "    q_test_images = []\n",
        "    print(\"\\nQuantum pre-processing of test images:\")\n",
        "    for idx, img in enumerate(test_images):\n",
        "        print(\"{}/{}        \".format(idx + 1, n_test), end=\"\\r\")\n",
        "        q_test_images.append(quanv(img))\n",
        "    q_test_images = np.asarray(q_test_images)\n",
        "\n",
        "    # Save pre-processed images\n",
        "    np.save(SAVE_PATH + \"q_train_images.npy\", q_train_images)\n",
        "    np.save(SAVE_PATH + \"q_test_images.npy\", q_test_images)\n",
        "\n",
        "\n",
        "# Load pre-processed images\n",
        "q_train_images = np.load(SAVE_PATH + \"q_train_images.npy\")\n",
        "q_test_images = np.load(SAVE_PATH + \"q_test_images.npy\")"
      ],
      "metadata": {
        "id": "TqJ7qUT5yzd1",
        "colab": {
          "base_uri": "https://localhost:8080/"
        },
        "outputId": "fbe69970-4390-4a05-f2c3-ade0fd7d381e"
      },
      "execution_count": null,
      "outputs": [
        {
          "output_type": "stream",
          "name": "stdout",
          "text": [
            "Quantum pre-processing of train images:\n",
            "\n",
            "Quantum pre-processing of test images:\n"
          ]
        }
      ]
    },
    {
      "cell_type": "code",
      "source": [
        "\n",
        "# import matplotlib.pyplot as plt\n",
        "# import pennylane as qml\n",
        "# import numpy as np\n",
        "\n",
        "# # Define the number of qubits and layers\n",
        "# n_qubits = 4\n",
        "# n_layers = 2\n",
        "\n",
        "# # Define the state preparation circuit\n",
        "# def state_preparation(params, n_layers):\n",
        "#     for i in range(n_layers):\n",
        "#         qml.RX(params[i * 2], wires=0)\n",
        "#         qml.RY(params[i * 2 + 1], wires=0)\n",
        "\n",
        "# # Define the variational circuit\n",
        "# @qml.qnode(qml.device(\"default.qubit\", wires=n_qubits)) # Define a QNode\n",
        "# def circuit(params, x): # Add input x\n",
        "#     state_preparation(params, n_layers)\n",
        "#     qml.RZ(x, wires=0) # Encode the input x\n",
        "#     return qml.expval(qml.PauliZ(0))\n",
        "\n",
        "# # Define the cost function\n",
        "# def cost(params, x, y):\n",
        "#     # Calculate the output of the circuit for all x values\n",
        "#     predictions = [circuit(params, x_val) for x_val in x]\n",
        "\n",
        "#     # Calculate the mean squared error\n",
        "#     return np.mean((predictions - y)**2)\n",
        "\n",
        "# # Define the optimizer\n",
        "# optimizer = qml.AdamOptimizer(stepsize=0.1)\n",
        "\n",
        "# # Initialize the parameters\n",
        "# params = np.random.random(2 * n_layers)\n",
        "\n",
        "# # Discretize the interval [0, 2π]\n",
        "# x = np.linspace(0, 2 * np.pi, 100)\n",
        "# y = np.sin(x)\n",
        "\n",
        "# # Train the model\n",
        "# for i in range(100):\n",
        "#     params = optimizer.step(lambda p: cost(p, x, y), params) # Use a lambda function to pass x and y to cost\n",
        "#     if (i+1) % 10 == 0:\n",
        "#         print(\"Cost at step {:5d}: {: .7f}\".format(i+1, cost(params, x, y)))\n",
        "\n",
        "# # Evaluate the model\n",
        "# circuit_output = [circuit(params, x_val) for x_val in x]\n",
        "\n",
        "# # Plot the results\n",
        "# plt.plot(x, y, label=\"Sine function\")\n",
        "# plt.plot(x, circuit_output, label=\"Circuit output\")\n",
        "# plt.legend()\n",
        "# plt.show()"
      ],
      "metadata": {
        "id": "i0r3wvqUy7Mq"
      },
      "execution_count": null,
      "outputs": []
    },
    {
      "cell_type": "code",
      "source": [
        "n_samples = 4\n",
        "n_channels = 4\n",
        "fig, axes = plt.subplots(1 + n_channels, n_samples, figsize=(10, 10))\n",
        "for k in range(n_samples):\n",
        "    axes[0, 0].set_ylabel(\"Input\")\n",
        "    if k != 0:\n",
        "        axes[0, k].yaxis.set_visible(False)\n",
        "    axes[0, k].imshow(train_images[k, :, :, 0], cmap=\"gray\")\n",
        "\n",
        "    # Plot all output channels\n",
        "    for c in range(n_channels):\n",
        "        axes[c + 1, 0].set_ylabel(\"Output [ch. {}]\".format(c))\n",
        "        if k != 0:\n",
        "            axes[c, k].yaxis.set_visible(False)\n",
        "        axes[c + 1, k].imshow(q_train_images[k, :, :, c], cmap=\"gray\")\n",
        "\n",
        "plt.tight_layout()\n",
        "plt.show()\n",
        "\n"
      ],
      "metadata": {
        "id": "toiaP87ty7PZ",
        "colab": {
          "base_uri": "https://localhost:8080/",
          "height": 1000
        },
        "outputId": "acff14de-e079-4efd-e6e1-c0f841dac75a"
      },
      "execution_count": null,
      "outputs": [
        {
          "output_type": "display_data",
          "data": {
            "text/plain": [
              "<Figure size 1000x1000 with 20 Axes>"
            ],
            "image/png": "[encoded data removed]"
          },
          "metadata": {}
        }
      ]
    },
    {
      "cell_type": "code",
      "source": [
        "def MyModel():\n",
        "    \"\"\"Initializes and returns a custom Keras model\n",
        "    which is ready to be trained.\"\"\"\n",
        "    model = keras.models.Sequential([\n",
        "        keras.layers.Flatten(),\n",
        "        keras.layers.Dense(10, activation=\"softmax\")\n",
        "    ])\n",
        "\n",
        "    model.compile(\n",
        "        optimizer='adam',\n",
        "        loss=\"sparse_categorical_crossentropy\",\n",
        "        metrics=[\"accuracy\"],\n",
        "    )\n",
        "    return model"
      ],
      "metadata": {
        "id": "4JHF_rErFevY"
      },
      "execution_count": null,
      "outputs": []
    },
    {
      "cell_type": "code",
      "source": [
        "q_model = MyModel()\n",
        "\n",
        "q_history = q_model.fit(\n",
        "    q_train_images,\n",
        "    train_labels,\n",
        "    validation_data=(q_test_images, test_labels),\n",
        "    batch_size=4,\n",
        "    epochs=n_epochs,\n",
        "    verbose=2,\n",
        ")"
      ],
      "metadata": {
        "colab": {
          "base_uri": "https://localhost:8080/"
        },
        "id": "X3cG4OIeGrFD",
        "outputId": "1e12112b-a14a-4dfe-b2f4-a07125aec067"
      },
      "execution_count": null,
      "outputs": [
        {
          "output_type": "stream",
          "name": "stdout",
          "text": [
            "Epoch 1/30\n",
            "13/13 - 1s - loss: 2.5172 - accuracy: 0.1600 - val_loss: 2.1673 - val_accuracy: 0.2000 - 1s/epoch - 91ms/step\n",
            "Epoch 2/30\n",
            "13/13 - 0s - loss: 1.9337 - accuracy: 0.3200 - val_loss: 1.9283 - val_accuracy: 0.4333 - 65ms/epoch - 5ms/step\n",
            "Epoch 3/30\n",
            "13/13 - 0s - loss: 1.5640 - accuracy: 0.5200 - val_loss: 1.8142 - val_accuracy: 0.5667 - 72ms/epoch - 6ms/step\n",
            "Epoch 4/30\n",
            "13/13 - 0s - loss: 1.2837 - accuracy: 0.6600 - val_loss: 1.6805 - val_accuracy: 0.6000 - 69ms/epoch - 5ms/step\n",
            "Epoch 5/30\n",
            "13/13 - 0s - loss: 1.0834 - accuracy: 0.8200 - val_loss: 1.5645 - val_accuracy: 0.6667 - 113ms/epoch - 9ms/step\n",
            "Epoch 6/30\n",
            "13/13 - 0s - loss: 0.9262 - accuracy: 0.8200 - val_loss: 1.5233 - val_accuracy: 0.6333 - 145ms/epoch - 11ms/step\n",
            "Epoch 7/30\n",
            "13/13 - 0s - loss: 0.7379 - accuracy: 0.8600 - val_loss: 1.4407 - val_accuracy: 0.6333 - 101ms/epoch - 8ms/step\n",
            "Epoch 8/30\n",
            "13/13 - 0s - loss: 0.6226 - accuracy: 0.9600 - val_loss: 1.3853 - val_accuracy: 0.6667 - 83ms/epoch - 6ms/step\n",
            "Epoch 9/30\n",
            "13/13 - 0s - loss: 0.5388 - accuracy: 1.0000 - val_loss: 1.3042 - val_accuracy: 0.6667 - 83ms/epoch - 6ms/step\n",
            "Epoch 10/30\n",
            "13/13 - 0s - loss: 0.4540 - accuracy: 1.0000 - val_loss: 1.3236 - val_accuracy: 0.6667 - 92ms/epoch - 7ms/step\n",
            "Epoch 11/30\n",
            "13/13 - 0s - loss: 0.4207 - accuracy: 1.0000 - val_loss: 1.2657 - val_accuracy: 0.7667 - 77ms/epoch - 6ms/step\n",
            "Epoch 12/30\n",
            "13/13 - 0s - loss: 0.3674 - accuracy: 1.0000 - val_loss: 1.2772 - val_accuracy: 0.7000 - 78ms/epoch - 6ms/step\n",
            "Epoch 13/30\n",
            "13/13 - 0s - loss: 0.3240 - accuracy: 1.0000 - val_loss: 1.2244 - val_accuracy: 0.7333 - 97ms/epoch - 7ms/step\n",
            "Epoch 14/30\n",
            "13/13 - 0s - loss: 0.3029 - accuracy: 0.9800 - val_loss: 1.2019 - val_accuracy: 0.6667 - 80ms/epoch - 6ms/step\n",
            "Epoch 15/30\n",
            "13/13 - 0s - loss: 0.2550 - accuracy: 1.0000 - val_loss: 1.1801 - val_accuracy: 0.7667 - 94ms/epoch - 7ms/step\n",
            "Epoch 16/30\n",
            "13/13 - 0s - loss: 0.2255 - accuracy: 1.0000 - val_loss: 1.1948 - val_accuracy: 0.7000 - 86ms/epoch - 7ms/step\n",
            "Epoch 17/30\n",
            "13/13 - 0s - loss: 0.2118 - accuracy: 1.0000 - val_loss: 1.1575 - val_accuracy: 0.7667 - 65ms/epoch - 5ms/step\n",
            "Epoch 18/30\n",
            "13/13 - 0s - loss: 0.1898 - accuracy: 1.0000 - val_loss: 1.1508 - val_accuracy: 0.7667 - 71ms/epoch - 5ms/step\n",
            "Epoch 19/30\n",
            "13/13 - 0s - loss: 0.1719 - accuracy: 1.0000 - val_loss: 1.1577 - val_accuracy: 0.7333 - 60ms/epoch - 5ms/step\n",
            "Epoch 20/30\n",
            "13/13 - 0s - loss: 0.1615 - accuracy: 1.0000 - val_loss: 1.1330 - val_accuracy: 0.7333 - 62ms/epoch - 5ms/step\n",
            "Epoch 21/30\n",
            "13/13 - 0s - loss: 0.1469 - accuracy: 1.0000 - val_loss: 1.1452 - val_accuracy: 0.7000 - 68ms/epoch - 5ms/step\n",
            "Epoch 22/30\n",
            "13/13 - 0s - loss: 0.1336 - accuracy: 1.0000 - val_loss: 1.1289 - val_accuracy: 0.7333 - 72ms/epoch - 6ms/step\n",
            "Epoch 23/30\n",
            "13/13 - 0s - loss: 0.1275 - accuracy: 1.0000 - val_loss: 1.1154 - val_accuracy: 0.7667 - 85ms/epoch - 7ms/step\n",
            "Epoch 24/30\n",
            "13/13 - 0s - loss: 0.1186 - accuracy: 1.0000 - val_loss: 1.1071 - val_accuracy: 0.7667 - 67ms/epoch - 5ms/step\n",
            "Epoch 25/30\n",
            "13/13 - 0s - loss: 0.1138 - accuracy: 1.0000 - val_loss: 1.0991 - val_accuracy: 0.7667 - 71ms/epoch - 5ms/step\n",
            "Epoch 26/30\n",
            "13/13 - 0s - loss: 0.1029 - accuracy: 1.0000 - val_loss: 1.1008 - val_accuracy: 0.7667 - 72ms/epoch - 6ms/step\n",
            "Epoch 27/30\n",
            "13/13 - 0s - loss: 0.0975 - accuracy: 1.0000 - val_loss: 1.0930 - val_accuracy: 0.7667 - 78ms/epoch - 6ms/step\n",
            "Epoch 28/30\n",
            "13/13 - 0s - loss: 0.0953 - accuracy: 1.0000 - val_loss: 1.0819 - val_accuracy: 0.7667 - 84ms/epoch - 6ms/step\n",
            "Epoch 29/30\n",
            "13/13 - 0s - loss: 0.0881 - accuracy: 1.0000 - val_loss: 1.1072 - val_accuracy: 0.7667 - 93ms/epoch - 7ms/step\n",
            "Epoch 30/30\n",
            "13/13 - 0s - loss: 0.0819 - accuracy: 1.0000 - val_loss: 1.0851 - val_accuracy: 0.7333 - 78ms/epoch - 6ms/step\n"
          ]
        }
      ]
    },
    {
      "cell_type": "code",
      "source": [
        "c_model = MyModel()\n",
        "\n",
        "c_history = c_model.fit(\n",
        "    train_images,\n",
        "    train_labels,\n",
        "    validation_data=(test_images, test_labels),\n",
        "    batch_size=4,\n",
        "    epochs=n_epochs,\n",
        "    verbose=2,\n",
        ")"
      ],
      "metadata": {
        "colab": {
          "base_uri": "https://localhost:8080/"
        },
        "id": "PbvqTjYhHTXq",
        "outputId": "d498c225-50fe-4f7f-9848-ad3a85148249"
      },
      "execution_count": null,
      "outputs": [
        {
          "output_type": "stream",
          "name": "stdout",
          "text": [
            "Epoch 1/30\n",
            "13/13 - 1s - loss: 2.3477 - accuracy: 0.1400 - val_loss: 2.1841 - val_accuracy: 0.1667 - 947ms/epoch - 73ms/step\n",
            "Epoch 2/30\n",
            "13/13 - 0s - loss: 1.9611 - accuracy: 0.4000 - val_loss: 2.0485 - val_accuracy: 0.2333 - 71ms/epoch - 5ms/step\n",
            "Epoch 3/30\n",
            "13/13 - 0s - loss: 1.6554 - accuracy: 0.6200 - val_loss: 1.9368 - val_accuracy: 0.3333 - 73ms/epoch - 6ms/step\n",
            "Epoch 4/30\n",
            "13/13 - 0s - loss: 1.4191 - accuracy: 0.7600 - val_loss: 1.8170 - val_accuracy: 0.5000 - 66ms/epoch - 5ms/step\n",
            "Epoch 5/30\n",
            "13/13 - 0s - loss: 1.2199 - accuracy: 0.8200 - val_loss: 1.7059 - val_accuracy: 0.5667 - 63ms/epoch - 5ms/step\n",
            "Epoch 6/30\n",
            "13/13 - 0s - loss: 1.0615 - accuracy: 0.8400 - val_loss: 1.6194 - val_accuracy: 0.5333 - 68ms/epoch - 5ms/step\n",
            "Epoch 7/30\n",
            "13/13 - 0s - loss: 0.9239 - accuracy: 0.8600 - val_loss: 1.5573 - val_accuracy: 0.6000 - 59ms/epoch - 5ms/step\n",
            "Epoch 8/30\n",
            "13/13 - 0s - loss: 0.8097 - accuracy: 0.9400 - val_loss: 1.4892 - val_accuracy: 0.6333 - 69ms/epoch - 5ms/step\n",
            "Epoch 9/30\n",
            "13/13 - 0s - loss: 0.7146 - accuracy: 0.9400 - val_loss: 1.4370 - val_accuracy: 0.6000 - 94ms/epoch - 7ms/step\n",
            "Epoch 10/30\n",
            "13/13 - 0s - loss: 0.6343 - accuracy: 0.9800 - val_loss: 1.4023 - val_accuracy: 0.6000 - 73ms/epoch - 6ms/step\n",
            "Epoch 11/30\n",
            "13/13 - 0s - loss: 0.5724 - accuracy: 1.0000 - val_loss: 1.3591 - val_accuracy: 0.6000 - 68ms/epoch - 5ms/step\n",
            "Epoch 12/30\n",
            "13/13 - 0s - loss: 0.5162 - accuracy: 1.0000 - val_loss: 1.3490 - val_accuracy: 0.6000 - 64ms/epoch - 5ms/step\n",
            "Epoch 13/30\n",
            "13/13 - 0s - loss: 0.4660 - accuracy: 1.0000 - val_loss: 1.3200 - val_accuracy: 0.6000 - 67ms/epoch - 5ms/step\n",
            "Epoch 14/30\n",
            "13/13 - 0s - loss: 0.4206 - accuracy: 1.0000 - val_loss: 1.2819 - val_accuracy: 0.6333 - 63ms/epoch - 5ms/step\n",
            "Epoch 15/30\n",
            "13/13 - 0s - loss: 0.3829 - accuracy: 1.0000 - val_loss: 1.2587 - val_accuracy: 0.6333 - 63ms/epoch - 5ms/step\n",
            "Epoch 16/30\n",
            "13/13 - 0s - loss: 0.3507 - accuracy: 1.0000 - val_loss: 1.2432 - val_accuracy: 0.6667 - 87ms/epoch - 7ms/step\n",
            "Epoch 17/30\n",
            "13/13 - 0s - loss: 0.3230 - accuracy: 1.0000 - val_loss: 1.2289 - val_accuracy: 0.6667 - 70ms/epoch - 5ms/step\n",
            "Epoch 18/30\n",
            "13/13 - 0s - loss: 0.2980 - accuracy: 1.0000 - val_loss: 1.2068 - val_accuracy: 0.7000 - 70ms/epoch - 5ms/step\n",
            "Epoch 19/30\n",
            "13/13 - 0s - loss: 0.2738 - accuracy: 1.0000 - val_loss: 1.2030 - val_accuracy: 0.7000 - 63ms/epoch - 5ms/step\n",
            "Epoch 20/30\n",
            "13/13 - 0s - loss: 0.2547 - accuracy: 1.0000 - val_loss: 1.1829 - val_accuracy: 0.7000 - 69ms/epoch - 5ms/step\n",
            "Epoch 21/30\n",
            "13/13 - 0s - loss: 0.2366 - accuracy: 1.0000 - val_loss: 1.1809 - val_accuracy: 0.7000 - 63ms/epoch - 5ms/step\n",
            "Epoch 22/30\n",
            "13/13 - 0s - loss: 0.2200 - accuracy: 1.0000 - val_loss: 1.1690 - val_accuracy: 0.7000 - 91ms/epoch - 7ms/step\n",
            "Epoch 23/30\n",
            "13/13 - 0s - loss: 0.2052 - accuracy: 1.0000 - val_loss: 1.1587 - val_accuracy: 0.7000 - 72ms/epoch - 6ms/step\n",
            "Epoch 24/30\n",
            "13/13 - 0s - loss: 0.1919 - accuracy: 1.0000 - val_loss: 1.1496 - val_accuracy: 0.7000 - 63ms/epoch - 5ms/step\n",
            "Epoch 25/30\n",
            "13/13 - 0s - loss: 0.1813 - accuracy: 1.0000 - val_loss: 1.1441 - val_accuracy: 0.7000 - 68ms/epoch - 5ms/step\n",
            "Epoch 26/30\n",
            "13/13 - 0s - loss: 0.1695 - accuracy: 1.0000 - val_loss: 1.1376 - val_accuracy: 0.7000 - 69ms/epoch - 5ms/step\n",
            "Epoch 27/30\n",
            "13/13 - 0s - loss: 0.1603 - accuracy: 1.0000 - val_loss: 1.1281 - val_accuracy: 0.7000 - 63ms/epoch - 5ms/step\n",
            "Epoch 28/30\n",
            "13/13 - 0s - loss: 0.1521 - accuracy: 1.0000 - val_loss: 1.1226 - val_accuracy: 0.7000 - 70ms/epoch - 5ms/step\n",
            "Epoch 29/30\n",
            "13/13 - 0s - loss: 0.1430 - accuracy: 1.0000 - val_loss: 1.1201 - val_accuracy: 0.7000 - 76ms/epoch - 6ms/step\n",
            "Epoch 30/30\n",
            "13/13 - 0s - loss: 0.1349 - accuracy: 1.0000 - val_loss: 1.1165 - val_accuracy: 0.7000 - 71ms/epoch - 5ms/step\n"
          ]
        }
      ]
    },
    {
      "cell_type": "code",
      "source": [
        "import matplotlib.pyplot as plt\n",
        "\n",
        "plt.style.use(\"seaborn\")\n",
        "fig, (ax1, ax2) = plt.subplots(2, 1, figsize=(6, 9))\n",
        "\n",
        "ax1.plot(q_history.history[\"val_accuracy\"], \"-ob\", label=\"With quantum layer\")\n",
        "ax1.plot(c_history.history[\"val_accuracy\"], \"-og\", label=\"Without quantum layer\")\n",
        "ax1.set_ylabel(\"Accuracy\")\n",
        "ax1.set_ylim([0, 1])\n",
        "ax1.set_xlabel(\"Epoch\")\n",
        "ax1.legend()\n",
        "\n",
        "ax2.plot(q_history.history[\"val_loss\"], \"-ob\", label=\"With quantum layer\")\n",
        "ax2.plot(c_history.history[\"val_loss\"], \"-og\", label=\"Without quantum layer\")\n",
        "ax2.set_ylabel(\"Loss\")\n",
        "ax2.set_ylim(top=2.5)\n",
        "ax2.set_xlabel(\"Epoch\")\n",
        "ax2.legend()\n",
        "plt.tight_layout()\n",
        "plt.show()\n"
      ],
      "metadata": {
        "colab": {
          "base_uri": "https://localhost:8080/",
          "height": 961
        },
        "id": "AN-HS5ldHZ3u",
        "outputId": "6ab6588b-2efb-4cf2-e2e7-37f3cdb72abc"
      },
      "execution_count": null,
      "outputs": [
        {
          "output_type": "stream",
          "name": "stderr",
          "text": [
            "<ipython-input-15-c3ef9ba498fb>:3: MatplotlibDeprecationWarning: The seaborn styles shipped by Matplotlib are deprecated since 3.6, as they no longer correspond to the styles shipped by seaborn. However, they will remain available as 'seaborn-v0_8-<style>'. Alternatively, directly use the seaborn API instead.\n",
            "  plt.style.use(\"seaborn\")\n"
          ]
        },
        {
          "output_type": "display_data",
          "data": {
            "text/plain": [
              "<Figure size 600x900 with 2 Axes>"
            ],
            "image/png": "[encoded data removed]"
          },
          "metadata": {}
        }
      ]
    },
    {
      "cell_type": "code",
      "source": [],
      "metadata": {
        "id": "gqrnAAvvHfR9"
      },
      "execution_count": null,
      "outputs": []
    }
  ]
}